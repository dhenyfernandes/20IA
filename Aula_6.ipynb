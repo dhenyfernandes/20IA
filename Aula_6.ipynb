{
 "cells": [
  {
   "cell_type": "markdown",
   "metadata": {},
   "source": [
    "# Visualização de Dados"
   ]
  },
  {
   "cell_type": "markdown",
   "metadata": {},
   "source": [
    "## Matplotlib\n",
    "\n",
    "A documentação pode ser acessada através do link: [matplotlib](https://matplotlib.org/)"
   ]
  },
  {
   "cell_type": "code",
   "execution_count": null,
   "metadata": {},
   "outputs": [],
   "source": [
    "import matplotlib.pyplot as plt\n",
    "fig = plt.figure()\n",
    "ax1 = fig.add_subplot(2, 2, 1)\n",
    "ax2 = fig.add_subplot(2, 2, 2)\n",
    "ax3 = fig.add_subplot(2, 2, 3)"
   ]
  },
  {
   "cell_type": "code",
   "execution_count": null,
   "metadata": {},
   "outputs": [],
   "source": [
    "import numpy as np\n",
    "from numpy.random import randn\n",
    "ax1.plot(randn(50).cumsum(), 'k--')\n",
    "ax2.hist(randn(100), bins=20, color='k', alpha=0.3)\n",
    "ax3.scatter(np.arange(30), np.arange(30) + 3 * randn(30))\n",
    "fig"
   ]
  },
  {
   "cell_type": "code",
   "execution_count": null,
   "metadata": {},
   "outputs": [],
   "source": [
    "x = np.linspace(0, 2, 100)\n",
    "plt.plot(x, x, label='linear')\n",
    "plt.plot(x, x**2, label='quadratic')\n",
    "plt.plot(x, x**3, label='cubic')\n",
    "\n",
    "plt.xlabel('x label')\n",
    "plt.ylabel('y label')\n",
    "plt.title(\"Simple Plot\")\n",
    "\n",
    "plt.legend()\n",
    "plt.show()"
   ]
  },
  {
   "cell_type": "code",
   "execution_count": null,
   "metadata": {},
   "outputs": [],
   "source": [
    "plt.plot(randn(30).cumsum(), color='r', linestyle='dashed', marker='.')"
   ]
  },
  {
   "cell_type": "code",
   "execution_count": null,
   "metadata": {},
   "outputs": [],
   "source": [
    "fig = plt.figure(); ax = fig.add_subplot(1, 1, 1)\n",
    "ax.plot(randn(1000).cumsum())\n",
    "ticks = ax.set_xticks([0, 250, 500, 750, 1000])\n",
    "labels = ax.set_xticklabels(['one', 'two', 'three', 'four', 'five'],\n",
    "                            rotation=30, fontsize='small')\n",
    "ax.set_title('My matplotlib plot')\n",
    "ax.set_xlabel('Stages')"
   ]
  },
  {
   "cell_type": "code",
   "execution_count": null,
   "metadata": {},
   "outputs": [],
   "source": [
    "fig = plt.figure(); ax = fig.add_subplot(1, 1, 1)\n",
    "ax.plot(randn(100).cumsum(), 'k', label='one')\n",
    "ax.plot(randn(100).cumsum(), 'k--', label='two')\n",
    "ax.plot(randn(100).cumsum(), 'k.', label='three')\n",
    "ax.legend(loc='best')"
   ]
  },
  {
   "cell_type": "markdown",
   "metadata": {},
   "source": [
    "## Tipos de Gráficos "
   ]
  },
  {
   "cell_type": "markdown",
   "metadata": {},
   "source": [
    "### Barra"
   ]
  },
  {
   "cell_type": "code",
   "execution_count": null,
   "metadata": {},
   "outputs": [],
   "source": [
    "#barra\n",
    "from matplotlib.ticker import FuncFormatter\n",
    "x = np.arange(4)\n",
    "money = [1.5e5, 2.5e6, 5.5e6, 2.0e7]\n",
    "def millions(x, pos):\n",
    "    'valor e posição'\n",
    "    return '$%1.1fM' % (x * 1e-6)\n",
    "formatter = FuncFormatter(millions)\n",
    "\n",
    "fig, ax = plt.subplots()\n",
    "ax.yaxis.set_major_formatter(formatter)\n",
    "plt.bar(x, money)\n",
    "plt.xticks(x, ('Bill', 'Fred', 'Mary', 'Sue'))\n",
    "plt.show()"
   ]
  },
  {
   "cell_type": "code",
   "execution_count": null,
   "metadata": {},
   "outputs": [],
   "source": [
    "# Cuidado ao criar gráfico de barras\n",
    "\n",
    "mentions = [500, 505]\n",
    "years = [2013, 2014]\n",
    "plt.bar([2012.6, 2013.6], mentions, 0.8)\n",
    "plt.xticks(years)\n",
    "plt.ylabel(\"# of times I heard someone say 'data science'\")\n",
    "\n",
    "# misleading y-axis only shows the part above 500\n",
    "plt.axis([2012.5,2014.5,499,506])\n",
    "plt.title(\"Look at the 'Huge' Increase!\")\n",
    "plt.show()"
   ]
  },
  {
   "cell_type": "code",
   "execution_count": null,
   "metadata": {},
   "outputs": [],
   "source": [
    "mentions = [500, 505]\n",
    "years = [2013, 2014]\n",
    "plt.bar([2012.6, 2013.6], mentions, 0.8)\n",
    "plt.xticks(years)\n",
    "plt.ylabel(\"# of times I heard someone say 'data science'\")\n",
    "\n",
    "# misleading y-axis only shows the part above 500\n",
    "plt.axis([2012.5,2014.5,0,550])\n",
    "plt.title(\"Not so Huge Anymore\")\n",
    "plt.show()"
   ]
  },
  {
   "cell_type": "markdown",
   "metadata": {},
   "source": [
    "### Histograma"
   ]
  },
  {
   "cell_type": "code",
   "execution_count": null,
   "metadata": {},
   "outputs": [],
   "source": [
    "#histograma\n",
    "np.random.seed(19680801)\n",
    "\n",
    "mu, sigma = 100, 15\n",
    "x = mu + sigma * np.random.randn(10000)\n",
    "\n",
    "plt.hist(x, density=True, facecolor='g', alpha=0.75)\n",
    "\n",
    "\n",
    "plt.xlabel('Smarts')\n",
    "plt.ylabel('Probability')\n",
    "plt.title('Histogram of IQ')\n",
    "plt.text(60, .025, r'$\\mu=' + str(mu) + ',\\ \\sigma=15$')\n",
    "plt.axis([40, 160, 0, 0.03])\n",
    "plt.grid(True)\n",
    "plt.show()"
   ]
  },
  {
   "cell_type": "markdown",
   "metadata": {},
   "source": [
    "### Barra Empilhada"
   ]
  },
  {
   "cell_type": "code",
   "execution_count": null,
   "metadata": {},
   "outputs": [],
   "source": [
    "# barra empilhada\n",
    "N = 5\n",
    "qtde_acoes = np.array([20, 15, 20, 15, 17])\n",
    "qtde_fiis = np.array([15, 12, 14, 20, 15])\n",
    "ind = np.arange(N)    \n",
    "width = 0.35       # largura das barras\n",
    "\n",
    "p1 = plt.bar(ind, qtde_acoes, width)\n",
    "p2 = plt.bar(ind, qtde_fiis, width,\n",
    "             bottom=qtde_acoes)\n",
    "\n",
    "plt.ylabel('Quantidade de Ativos')\n",
    "plt.title('Distribuição de Ativos na Carteira')\n",
    "plt.xticks(ind, ('JAN', 'FEV', 'MAR', 'ABR', 'MAI'))\n",
    "plt.yticks(np.arange(0, 81, 10))\n",
    "plt.legend((p1[0], p2[0]), ('Ações', 'FIIs'))\n",
    "\n",
    "for x,y,val in zip(ind,qtde_acoes/2, qtde_acoes):\n",
    "    plt.text(x, y, \"%.1d\"%val, ha=\"center\", va=\"center\")\n",
    "for x,y,val in zip(ind,qtde_acoes+qtde_fiis/2, qtde_fiis):\n",
    "    plt.text(x, y, \"%.1d\"%val, ha=\"center\", va=\"center\")\n",
    "\n",
    "plt.show()"
   ]
  },
  {
   "cell_type": "markdown",
   "metadata": {},
   "source": [
    "### Scatter Plot"
   ]
  },
  {
   "cell_type": "code",
   "execution_count": null,
   "metadata": {},
   "outputs": [],
   "source": [
    "#Scatter-plot\n",
    "pontos_f = [89, 90, 70, 89, 100, 80, 90, 100, 80, 34]\n",
    "pontos_m = [30, 29, 49, 48, 100, 48, 38, 45, 20, 30]\n",
    "range_pontos = [10, 20, 30, 40, 50, 60, 70, 80, 90, 100]\n",
    "feminino = plt.scatter(range_pontos, pontos_f, color='r')\n",
    "masculino = plt.scatter(range_pontos, pontos_m, color='g')\n",
    "plt.xlabel('Range de Pontos')\n",
    "plt.ylabel('Pontos')\n",
    "plt.legend((feminino, masculino),('feminino','masculino'),loc='best')\n",
    "plt.show()"
   ]
  },
  {
   "cell_type": "markdown",
   "metadata": {},
   "source": [
    "### Box Plot"
   ]
  },
  {
   "cell_type": "code",
   "execution_count": null,
   "metadata": {},
   "outputs": [],
   "source": [
    "#Box plot\n",
    "np.random.seed(19680801)\n",
    "\n",
    "#criando dados fictícios\n",
    "spread = np.random.rand(50) * 100\n",
    "center = np.ones(25) * 50\n",
    "flier_high = np.random.rand(10) * 100 + 100\n",
    "flier_low = np.random.rand(10) * -100\n",
    "data = np.concatenate((spread, center, flier_high, flier_low))\n",
    "fig1, ax1 = plt.subplots()\n",
    "ax1.set_title('Basic Plot')\n",
    "ax1.boxplot(data)"
   ]
  },
  {
   "cell_type": "markdown",
   "metadata": {},
   "source": [
    "## TODO Section"
   ]
  },
  {
   "cell_type": "markdown",
   "metadata": {},
   "source": [
    "#### Usando o dataset Pokemon.csv, resolva as seguintes questões:\n",
    "\n",
    "    1) crie uma função que receba o dataset e o atributo e retorne um histograma que mostre a distribuição do valor dos atributos “attack”, “defense”,”Sp.Atk”, “Sp.Def” e “Speed”. Insira uma linha indicando o valor médio do atributo.\n",
    "    \n",
    "    2) crie um scatter plot comparando ataque (eixo x) e defesa (eixo y) de pokemons dos tipos Fire e Water.\n",
    "    \n",
    "    3) Utilizando o dataset Pokemon, crie um gráfico de barras que mostre, para cada geração, a proporção de pokemons Lendários e aqueles que não são lendários. Use stacked bar. "
   ]
  },
  {
   "cell_type": "code",
   "execution_count": null,
   "metadata": {},
   "outputs": [],
   "source": [
    "# resposta 1\n"
   ]
  },
  {
   "cell_type": "code",
   "execution_count": null,
   "metadata": {},
   "outputs": [],
   "source": [
    "# resposta 2\n"
   ]
  },
  {
   "cell_type": "code",
   "execution_count": null,
   "metadata": {},
   "outputs": [],
   "source": [
    "# resposta 3"
   ]
  }
 ],
 "metadata": {
  "kernelspec": {
   "display_name": "Python 3",
   "language": "python",
   "name": "python3"
  },
  "language_info": {
   "codemirror_mode": {
    "name": "ipython",
    "version": 3
   },
   "file_extension": ".py",
   "mimetype": "text/x-python",
   "name": "python",
   "nbconvert_exporter": "python",
   "pygments_lexer": "ipython3",
   "version": "3.7.5"
  }
 },
 "nbformat": 4,
 "nbformat_minor": 4
}
