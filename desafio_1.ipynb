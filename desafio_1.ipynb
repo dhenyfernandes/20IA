{
 "cells": [
  {
   "cell_type": "markdown",
   "metadata": {},
   "source": [
    "# Desafio 1 - Nome"
   ]
  },
  {
   "cell_type": "markdown",
   "metadata": {},
   "source": [
    "### Conjectura de Legendre\n",
    "\n",
    "A Conjectura de Legendre, enunciada por de Adrien-Marie Legendre, afirma que existe sempre um número primo entre $n^2 $ e $(n+1)^2$, para qualquer $n$ inteiro positivo\n",
    "\n",
    "Seu desafio será criar uma função que, dado um input (inteiro n) retorne todos os números primos entre $n^2$ e $(n+1)^2$. \n",
    "\n",
    "Exemplo:\n",
    "\n",
    "    > input: 4\n",
    "    \n",
    "    > output: [17,19,23]"
   ]
  },
  {
   "cell_type": "code",
   "execution_count": null,
   "metadata": {},
   "outputs": [],
   "source": [
    "def isprime(n):\n",
    "    \"\"\"\n",
    "    Esta função verifica se um número é ou não primo\n",
    "    \"\"\"\n",
    "    # TODO: implemente uma função que retorne TRUE se um número é ou não primo"
   ]
  },
  {
   "cell_type": "code",
   "execution_count": null,
   "metadata": {},
   "outputs": [],
   "source": [
    "def LegendreConjecture(n):\n",
    "    \"\"\"\n",
    "    Esta função calcula a conjectura de Legendre, como descrita acima\n",
    "    \"\"\"\n",
    "    # TODO: implemente uma função que retorne uma lista contendo os números primos entre n^2 e (n+1)^2"
   ]
  },
  {
   "cell_type": "markdown",
   "metadata": {},
   "source": [
    "## Classe de leitura de arquivo\n",
    "\n",
    "Crie uma classe que\n",
    "\n",
    "        > crie um método que tenta ler um arquivo de texto (.txt)\n",
    "        > crie um método usando regex para extrair datas do texto. Considere apenas os dois tipos: dd/mm/aaaa e d/m/aa\n",
    "        > crie um método que utilize Counter para contar a quantidade de cada caracter"
   ]
  },
  {
   "cell_type": "code",
   "execution_count": null,
   "metadata": {},
   "outputs": [],
   "source": [
    "class ExtractTextInformation():\n",
    "    \"\"\"classe que extrai informações de um texto.\n",
    "    \n",
    "    implementa o método __init__ e os três métodos acima mencionados \"\"\""
   ]
  }
 ],
 "metadata": {
  "kernelspec": {
   "display_name": "Python 3",
   "language": "python",
   "name": "python3"
  },
  "language_info": {
   "codemirror_mode": {
    "name": "ipython",
    "version": 3
   },
   "file_extension": ".py",
   "mimetype": "text/x-python",
   "name": "python",
   "nbconvert_exporter": "python",
   "pygments_lexer": "ipython3",
   "version": "3.7.5"
  }
 },
 "nbformat": 4,
 "nbformat_minor": 4
}
